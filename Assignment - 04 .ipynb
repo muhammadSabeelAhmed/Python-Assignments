{
 "cells": [
  {
   "cell_type": "code",
   "execution_count": 8,
   "metadata": {},
   "outputs": [
    {
     "name": "stdout",
     "output_type": "stream",
     "text": [
      "{'first_name': 'Muhammad Sabeel', 'last_name': 'Ahmed', 'age': '25', 'city': 'Karachi', 'qualification': 'Masters'}\n",
      "{'first_name': 'Muhammad Sabeel', 'last_name': 'Ahmed', 'age': '25', 'city': 'Karachi'}\n"
     ]
    }
   ],
   "source": [
    "#Question 1\n",
    "\n",
    "information={\n",
    "    \"first_name\":\"Muhammad Sabeel\",\n",
    "    \"last_name\":\"Ahmed\",\n",
    "    \"age\":\"25\",\n",
    "    \"city\":\"Karachi\",\n",
    "}\n",
    "information[\"qualification\"]=\"Masters\"\n",
    "print(information)\n",
    "\n",
    "del information[\"qualification\"]\n",
    "print(information)"
   ]
  },
  {
   "cell_type": "code",
   "execution_count": 20,
   "metadata": {},
   "outputs": [
    {
     "name": "stdout",
     "output_type": "stream",
     "text": [
      "Karachi: {'country': 'Pakistan', 'population': '100 Million', 'fact': 'They are great in welcoming their guests'}\n",
      "\n",
      "Dubai: {'country': 'United Arab Emirates', 'population': '5 Million', 'fact': 'They are too much reach peoples'}\n",
      "\n",
      "Lahore: {'country': 'Pakistan', 'population': '10 Million', 'fact': 'People love each other & sometime eat Donkey meat :-P'}\n",
      "\n"
     ]
    }
   ],
   "source": [
    "#Question 2\n",
    "\n",
    "cities={\n",
    "    \"Karachi\":{\n",
    "        \"country\":\"Pakistan\",\n",
    "        \"population\":\"100 Million\",\n",
    "        \"fact\":\"They are great in welcoming their guests\"\n",
    "    },\n",
    "        \"Dubai\":{\n",
    "        \"country\":\"United Arab Emirates\",\n",
    "        \"population\":\"5 Million\",\n",
    "        \"fact\":\"They are too much reach peoples\"\n",
    "    },\n",
    "     \"Lahore\":{\n",
    "        \"country\":\"Pakistan\",\n",
    "        \"population\":\"10 Million\",\n",
    "        \"fact\":\"People love each other & sometime eat Donkey meat :-P\"\n",
    "    }\n",
    "}\n",
    "\n",
    "print(\"Karachi: \"+str(cities[\"Karachi\"])+\"\\n\")\n",
    "print(\"Dubai: \"+str(cities[\"Dubai\"])+\"\\n\")\n",
    "print(\"Lahore: \"+str(cities[\"Lahore\"])+\"\\n\")"
   ]
  },
  {
   "cell_type": "code",
   "execution_count": 31,
   "metadata": {},
   "outputs": [
    {
     "name": "stdout",
     "output_type": "stream",
     "text": [
      "Please enter your age: 55\n",
      "Cost of Movie Tciket: $15\n"
     ]
    }
   ],
   "source": [
    "#Question 3\n",
    "\n",
    "age=int(input(\"Please enter your age: \"))\n",
    "rates=[\"Free\",\"$10\",\"$15\"]\n",
    "\n",
    "for rate in rates:\n",
    "    if age<3 and age>0:\n",
    "        print(\"Cost of Movie Tciket: \"+rates[0])\n",
    "        break;\n",
    "    elif age>=3 and age<=12:\n",
    "        print(\"Cost of Movie Tciket: \"+rates[1])\n",
    "        break;\n",
    "    elif age>12 and age<=100:\n",
    "        print(\"Cost of Movie Tciket: \"+rates[2])\n",
    "        break;"
   ]
  },
  {
   "cell_type": "code",
   "execution_count": 34,
   "metadata": {},
   "outputs": [
    {
     "name": "stdout",
     "output_type": "stream",
     "text": [
      "One of my favourite book is Alice on the mountains\n"
     ]
    }
   ],
   "source": [
    "#Question 4\n",
    "\n",
    "def favorite_book(title):\n",
    "    print(\"One of my favourite book is \"+title)\n",
    "favorite_book(\"Alice on the mountains\")"
   ]
  },
  {
   "cell_type": "code",
   "execution_count": 56,
   "metadata": {},
   "outputs": [
    {
     "name": "stdout",
     "output_type": "stream",
     "text": [
      "Plase Enter Value: 52\n",
      "Random number is less then entered value \n",
      "\n",
      "Plase Enter Value: 32\n",
      "Random number is less then entered value \n",
      "\n",
      "Plase Enter Value: 15\n",
      "You Won the Game..\n",
      "\n"
     ]
    }
   ],
   "source": [
    "#Question 5\n",
    "\n",
    "from random import randint\n",
    "\n",
    "value = randint(0, 30)\n",
    "count=0;\n",
    "for i in range(3):\n",
    "    answer=int(input(\"Plase Enter Value: \"))\n",
    "    count+=1\n",
    "    if answer==value:\n",
    "        print(\"You Won the Game..\\n\")\n",
    "        break\n",
    "    elif answer<value:\n",
    "        print(\"Random number is greater then entered value \\n\")\n",
    "    elif answer>value:\n",
    "        print(\"Random number is less then entered value \\n\")\n",
    "    if count==3:\n",
    "        print(\"Game Over.. \\n\")\n",
    "        break\n",
    "    "
   ]
  },
  {
   "cell_type": "code",
   "execution_count": null,
   "metadata": {},
   "outputs": [],
   "source": []
  },
  {
   "cell_type": "code",
   "execution_count": null,
   "metadata": {},
   "outputs": [],
   "source": []
  }
 ],
 "metadata": {
  "kernelspec": {
   "display_name": "Python 3",
   "language": "python",
   "name": "python3"
  },
  "language_info": {
   "codemirror_mode": {
    "name": "ipython",
    "version": 3
   },
   "file_extension": ".py",
   "mimetype": "text/x-python",
   "name": "python",
   "nbconvert_exporter": "python",
   "pygments_lexer": "ipython3",
   "version": "3.7.4"
  }
 },
 "nbformat": 4,
 "nbformat_minor": 2
}
