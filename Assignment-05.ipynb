{
 "cells": [
  {
   "cell_type": "code",
   "execution_count": 1,
   "metadata": {},
   "outputs": [
    {
     "name": "stdout",
     "output_type": "stream",
     "text": [
      "Please Enter Positive Integer to calculate its Factorial.6\n",
      "Result: 120\n"
     ]
    }
   ],
   "source": [
    "#Question:1\n",
    "#Write a Python function to calculate the factorial of a number (a non-negative integer).\n",
    "#The function accepts the number as an argument.\n",
    "\n",
    "def factorial(userInput):\n",
    "    value=1\n",
    "    factResult=1\n",
    "    if userInput > 0:\n",
    "        while value!=userInput:\n",
    "            factResult =factResult*value\n",
    "            value +=1\n",
    "    else:\n",
    "        print(\"Enter correct positive Integer\")\n",
    "    print(\"Result: {}\".format(factResult))\n",
    "\n",
    "value=int(input(\"Please Enter Positive Integer to calculate its Factorial.\"))\n",
    "factorial(value)"
   ]
  },
  {
   "cell_type": "code",
   "execution_count": 5,
   "metadata": {},
   "outputs": [
    {
     "name": "stdout",
     "output_type": "stream",
     "text": [
      "Please enter String so we can calculate no. of Upper & Lower Case Letters\n",
      "pYthon pRogRaMMinG\n",
      "Upper Case Letters: 6\n",
      "Lower Case Letters: 11\n"
     ]
    }
   ],
   "source": [
    "#Question:2\n",
    "\n",
    "#Write a Python function that accepts a string and calculate the number of upper case letters and lower case letters.\n",
    "\n",
    "def checkLetter():\n",
    "    countUpper=0\n",
    "    countLower=0\n",
    "    userInput=input(\"Please enter String so we can calculate no. of Upper & Lower Case Letters\\n\")\n",
    "    mylist=list(userInput)\n",
    "    for element in mylist:\n",
    "        if element.isupper():\n",
    "            countUpper+=1\n",
    "        elif element.islower():\n",
    "            countLower+=1\n",
    "    print(\"Upper Case Letters: {}\\nLower Case Letters: {}\".format(countUpper,countLower))\n",
    "    \n",
    "    \n",
    "checkLetter()\n"
   ]
  },
  {
   "cell_type": "code",
   "execution_count": 9,
   "metadata": {},
   "outputs": [
    {
     "name": "stdout",
     "output_type": "stream",
     "text": [
      "Please Enter any Integer Number\n",
      "85632\n",
      "Even Number\n"
     ]
    }
   ],
   "source": [
    "#Question:3\n",
    "#Write a Python function to print the even numbers from a given list.\n",
    "\n",
    "def evenCheck():\n",
    "    userInput=int(input(\"Please Enter any Integer Number\\n\"))\n",
    "    if userInput%2==0:\n",
    "        print(\"Even Number\")\n",
    "    else:\n",
    "        print(\"Odd Number\")\n",
    "evenCheck()"
   ]
  },
  {
   "cell_type": "code",
   "execution_count": 1,
   "metadata": {},
   "outputs": [
    {
     "name": "stdout",
     "output_type": "stream",
     "text": [
      "Please enter any string to check palindromemadam\n",
      "Palindrome\n"
     ]
    }
   ],
   "source": [
    "#Question:4\n",
    "#Write a Python function that checks whether a passed string is palindrome or not.\n",
    "\n",
    "def palindromeCheck():\n",
    "    userInput=input(\"Please enter any string to check palindrome\")\n",
    "    mylist=list(userInput)\n",
    "    count=len(mylist)\n",
    "    for items in mylist:\n",
    "        if items==mylist[count-1]:\n",
    "            count -=1\n",
    "            if count==0:\n",
    "                print(\"Palindrome\")\n",
    "        else:\n",
    "            print(\"Not Palindrome\")\n",
    "            break\n",
    "palindromeCheck()\n"
   ]
  },
  {
   "cell_type": "code",
   "execution_count": 7,
   "metadata": {},
   "outputs": [
    {
     "name": "stdout",
     "output_type": "stream",
     "text": [
      "Enter a number: 7\n",
      "7 is a prime number\n",
      "7 is a prime number\n",
      "7 is a prime number\n",
      "7 is a prime number\n",
      "7 is a prime number\n"
     ]
    }
   ],
   "source": [
    "#Question:5\n",
    "#Write a Python function that takes a number as a parameter and check the number is prime or not.\n",
    "\n",
    "def primeCheck():\n",
    "    num = int(input(\"Enter a number: \"))\n",
    "    if num > 1:\n",
    "        for i in range(2,num):\n",
    "            if (num % i) == 0:\n",
    "                print(num,\"is not a prime number\")\n",
    "                print(i,\"times\",num//i,\"is\",num)\n",
    "                break\n",
    "            else:\n",
    "                print(num,\"is a prime number\")\n",
    "    else:\n",
    "        print(num,\"is not a prime number\")\n",
    "primeCheck()"
   ]
  },
  {
   "cell_type": "code",
   "execution_count": 1,
   "metadata": {},
   "outputs": [
    {
     "name": "stdout",
     "output_type": "stream",
     "text": [
      "1.pampers\n",
      "2.coldrink\n",
      "3.banana\n",
      "4.rice\n",
      "5.fruits\n",
      "6.chicken\n",
      "7.sugar\n",
      "8.oil\n",
      "9.floor\n",
      "10.soap\n",
      "11.shampoo\n",
      "12.exit\n",
      "Your shopping List:['pampers', 'coldrink', 'banana', 'rice', 'fruits', 'chicken', 'sugar', 'oil', 'floor', 'soap', 'shampoo', 'exit']\n",
      "\n"
     ]
    }
   ],
   "source": [
    "#Question: 6\n",
    "#Suppose a customer is shopping in a market and you need to print all the items which user bought from market.Write a \n",
    "#function which accepts the multiple arguments of user shopping list and print all the items which userbought from market.\n",
    "#(Hint: Arbitrary Argument concept can make this task ease)\n",
    "\n",
    "def itemsList(*args):\n",
    "    if args==():\n",
    "        count=1\n",
    "        userInput=input(str(count)+\".\")\n",
    "        elements=[]\n",
    "        elements.append(userInput)\n",
    "        while userInput!=\"exit\":\n",
    "            count+=1\n",
    "            userInput=input(str(count)+\".\")\n",
    "            elements.append(userInput)\n",
    "        print(\"Your shopping List:{}\\n\".format(elements))\n",
    "    else:\n",
    "        print(\"Your shopping List:{}\\n\".format(args))\n",
    "\n",
    "itemsList()"
   ]
  },
  {
   "cell_type": "code",
   "execution_count": null,
   "metadata": {},
   "outputs": [],
   "source": []
  }
 ],
 "metadata": {
  "kernelspec": {
   "display_name": "Python 3",
   "language": "python",
   "name": "python3"
  },
  "language_info": {
   "codemirror_mode": {
    "name": "ipython",
    "version": 3
   },
   "file_extension": ".py",
   "mimetype": "text/x-python",
   "name": "python",
   "nbconvert_exporter": "python",
   "pygments_lexer": "ipython3",
   "version": "3.7.4"
  }
 },
 "nbformat": 4,
 "nbformat_minor": 2
}
