{
 "cells": [
  {
   "cell_type": "code",
   "execution_count": 10,
   "metadata": {},
   "outputs": [
    {
     "name": "stdout",
     "output_type": "stream",
     "text": [
      "Audi\n",
      "green\n",
      "Audi Red 2015\n"
     ]
    }
   ],
   "source": [
    "#Question 1:Define Object Oriented Programming Language?\n",
    "'''We can say OOP is in which real world objects are viewed as separate entities having there own\n",
    "state which is modified by only builtin methods or procedures.'''\n",
    "\n",
    "#Question 2:List down the Benefits of OOP?\n",
    "'''\n",
    "1. it makes software easy to maintain\n",
    "2. we can define re usable components\n",
    "3. we can use other classes properties or functions in any class\n",
    "4. we can restrict user to get or set data\n",
    "5. also enables faster development. Object-oriented programming languages come with rich libraries of objects, and code developed during projects \n",
    "    is also reusable in future projects.\n",
    "6. With the use of data hiding and abstraction mechanism we can ensure the security of our data and objects etc..\n",
    "'''\n",
    "\n",
    "#Question 3:Differentiate between function and method?\n",
    "'''\n",
    "Funtions: have return type other then void\n",
    "Methods: have only void return type or no any return type'''\n",
    "\n",
    "#Question 4:\n",
    "#Define the following terms:\n",
    "#1. Class\n",
    "#2. Object\n",
    "#3. Attribute\n",
    "#4. Behavior\n",
    "'''\n",
    "1. CLASS:\n",
    "    class is the blue print of cabaility of object.\n",
    "\n",
    "2. OBJECT:\n",
    "    Object is the insentation of a class for example if any sketch is the blue print of any Building then the Building\n",
    "    itself is the object.\n",
    "    \n",
    "3. ATTRIBUTES:\n",
    "    attributes are the arguments of Constructor or we can say that these are class level variables\n",
    "\n",
    "4. Behaviour:\n",
    "    We can say that when we create instance then we are defining the behaviour of class.\n",
    "'''\n",
    "\n",
    "#Question 5:\n",
    "#Write a code in python in which create a class named it Car which\n",
    "#have 5 attributes such like (model, color and name etc.) and 3\n",
    "#methods. And create 5 object instance from that class.\n",
    "\n",
    "class Car():\n",
    "    def __init__(self, name, model, color, brand, horsepower):\n",
    "        self.name=name\n",
    "        self.model=model\n",
    "        self.color=color\n",
    "        self.brand=brand\n",
    "        self.horsepower=horsepower\n",
    "        \n",
    "car1=Car(\"Audi\",\"2015\",\"\",\"\",\"\")\n",
    "car2= Car(\"Audi\",\"green\",\"green\",\"\",\"\")\n",
    "car3=Car(\"Audi\",\"2015\",\"Red\",\"\",\"\")\n",
    "car4=Car(\"Audi\", \"2019\",\"Black\",\"Audi\",\"2500\")\n",
    "car5=Car(\"Toyota\",\"1300\",\"green\",\"Toyota\",\"\")\n",
    "\n",
    "print(car1.name)\n",
    "print(car2.color)\n",
    "print(car3.name,car3.color,car3.model)\n",
    "\n"
   ]
  },
  {
   "cell_type": "code",
   "execution_count": null,
   "metadata": {},
   "outputs": [],
   "source": []
  }
 ],
 "metadata": {
  "kernelspec": {
   "display_name": "Python 3",
   "language": "python",
   "name": "python3"
  },
  "language_info": {
   "codemirror_mode": {
    "name": "ipython",
    "version": 3
   },
   "file_extension": ".py",
   "mimetype": "text/x-python",
   "name": "python",
   "nbconvert_exporter": "python",
   "pygments_lexer": "ipython3",
   "version": "3.7.4"
  }
 },
 "nbformat": 4,
 "nbformat_minor": 2
}
