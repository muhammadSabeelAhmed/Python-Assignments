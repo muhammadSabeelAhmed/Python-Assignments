{
 "cells": [
  {
   "cell_type": "code",
   "execution_count": 1,
   "metadata": {},
   "outputs": [
    {
     "name": "stdout",
     "output_type": "stream",
     "text": [
      "Please Enter First Value: 4\n",
      "Please Specify Your Operator: **\n",
      "Please Enter Second Value: 4\n",
      "Answer:  256\n"
     ]
    }
   ],
   "source": [
    "'''\n",
    "1. Make a calculator using Python with addition , subtraction , multiplication ,division and power.\n",
    "'''\n",
    "value1=int(input(\"Please Enter First Value: \"))\n",
    "operator=input(\"Please Specify Your Operator: \")\n",
    "value2=int(input(\"Please Enter Second Value: \"))\n",
    "if operator==\"+\":\n",
    "    newValue=value1+value2\n",
    "    print(\"Answer: \",newValue)\n",
    "elif operator==\"-\":\n",
    "    newValue=value1-value2\n",
    "    print(\"Answer: \",newValue)\n",
    "elif operator==\"*\":\n",
    "    newValue=value1*value2\n",
    "    print(\"Answer: \",newValue)\n",
    "elif operator==\"/\":\n",
    "    newValue=value1/value2\n",
    "    print(\"Answer: \",newValue)\n",
    "elif operator==\"**\":\n",
    "    newValue=value1**value2\n",
    "    print(\"Answer: \",newValue)\n",
    "else:\n",
    "    print(\"Please selecct valid operator\")"
   ]
  },
  {
   "cell_type": "code",
   "execution_count": 20,
   "metadata": {},
   "outputs": [
    {
     "name": "stdout",
     "output_type": "stream",
     "text": [
      "Integer Value found in list\n"
     ]
    }
   ],
   "source": [
    "'''\n",
    "2. Write a program to check if there is any numeric value in list using for loop\n",
    "'''\n",
    "my_list=[\"Ahmed\",\"Sabeel\",234,\"jsk\",\"453\",9867]\n",
    "for integer in my_list:\n",
    "    variableType=str(type((integer)))\n",
    "    if variableType==\"<class 'int'>\":\n",
    "        print(\"Integer Value found in list\")\n",
    "        break"
   ]
  },
  {
   "cell_type": "code",
   "execution_count": 24,
   "metadata": {},
   "outputs": [
    {
     "name": "stdout",
     "output_type": "stream",
     "text": [
      "Sum of Integer values in Dictionary:  136\n"
     ]
    }
   ],
   "source": [
    "'''\n",
    "4. Write a Python program to sum all the numeric items in a dictionary\n",
    "'''\n",
    "customer={\n",
    "    'Payment1':132,\n",
    "    'Payment2':4,\n",
    "    'Customer_id':'45'\n",
    "}\n",
    "sum=0;\n",
    "for intValue in customer.values():\n",
    "    if str(type((intValue)))==\"<class 'int'>\":\n",
    "        sum=sum+intValue\n",
    "print(\"Sum of Integer values in Dictionary: \",sum)"
   ]
  },
  {
   "cell_type": "code",
   "execution_count": 25,
   "metadata": {},
   "outputs": [
    {
     "name": "stdout",
     "output_type": "stream",
     "text": [
      "{'name': 'Sabeel', 'Address': 'Model Colony', 'Phone Number': '03122804640'}\n"
     ]
    }
   ],
   "source": [
    "'''\n",
    "3. Write a Python script to add a key to a dictionary\n",
    "'''\n",
    "customer={\n",
    "    'name':\"Sabeel\",\n",
    "    'Address':\"Model Colony\"\n",
    "}\n",
    "customer[\"Phone Number\"]=\"03122804640\"\n",
    "print(customer)"
   ]
  },
  {
   "cell_type": "code",
   "execution_count": 32,
   "metadata": {},
   "outputs": [
    {
     "name": "stdout",
     "output_type": "stream",
     "text": [
      "12\n",
      "45\n",
      "34\n",
      "98\n",
      "87\n",
      "65\n",
      "87\n",
      "12\n",
      "45\n",
      "98\n"
     ]
    }
   ],
   "source": [
    "'''\n",
    "5. Write a program to identify duplicate values from list\n",
    "'''\n",
    "my_list=[12,45,67,34,98,87,23,65,87,12,45,98]\n",
    "new_list=[]\n",
    "count=0\n",
    "for outer in my_list:\n",
    "    for inner in my_list:\n",
    "        if outer==inner:\n",
    "            count=count+1\n",
    "            if count>=2:\n",
    "                print(outer)\n",
    "                count=0"
   ]
  },
  {
   "cell_type": "code",
   "execution_count": 35,
   "metadata": {},
   "outputs": [
    {
     "name": "stdout",
     "output_type": "stream",
     "text": [
      "Please Enter Keyname\n",
      "Key already exists\n"
     ]
    }
   ],
   "source": [
    "'''\n",
    "6. Write a Python script to check if a given key already exists in a dictionary\n",
    "'''\n",
    "customer={\n",
    "    'name':\"Sabeel\",\n",
    "    'Address':\"Model Colony\"\n",
    "    'Mobile':\"03122804640\"\n",
    "}\n",
    "myKey=input(\"Please Enter Key\")\n",
    "for keys in customer.keys():\n",
    "    if keys==myKey:\n",
    "        print(\"Key already exists\")\n",
    "        break"
   ]
  },
  {
   "cell_type": "code",
   "execution_count": null,
   "metadata": {},
   "outputs": [],
   "source": []
  }
 ],
 "metadata": {
  "kernelspec": {
   "display_name": "Python 3",
   "language": "python",
   "name": "python3"
  },
  "language_info": {
   "codemirror_mode": {
    "name": "ipython",
    "version": 3
   },
   "file_extension": ".py",
   "mimetype": "text/x-python",
   "name": "python",
   "nbconvert_exporter": "python",
   "pygments_lexer": "ipython3",
   "version": "3.7.4"
  }
 },
 "nbformat": 4,
 "nbformat_minor": 2
}
