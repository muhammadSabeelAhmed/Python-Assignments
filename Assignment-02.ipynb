{
 "cells": [
  {
   "cell_type": "code",
   "execution_count": 6,
   "metadata": {},
   "outputs": [
    {
     "name": "stdout",
     "output_type": "stream",
     "text": [
      "Enter First Subject Maskrs: 52\n",
      "Enter Second Subject Maskrs: 63\n",
      "Enter Third Subject Maskrs: 89\n",
      "Enter Fourth Subject Maskrs: 74\n",
      "Enter Fifth Subject Maskrs: 52\n",
      " \n",
      "Marks Gained out of 500: 330\n",
      "Percentage: 66.0\n",
      "Grade: B\n"
     ]
    }
   ],
   "source": [
    "'''\n",
    "1. Write a program which takes 5 inputs from user for different subject’s marks, total it and generate mark sheet using grades?\n",
    "'''\n",
    "sub1=int(input(\"Enter First Subject Maskrs: \"))\n",
    "sub2=int(input(\"Enter Second Subject Maskrs: \"))\n",
    "sub3=int(input(\"Enter Third Subject Maskrs: \"))\n",
    "sub4=int(input(\"Enter Fourth Subject Maskrs: \"))\n",
    "sub5=int(input(\"Enter Fifth Subject Maskrs: \"))\n",
    "\n",
    "if (sub1<=100 or sub2<=100 or sub3<=100 or sub4<=100 or sub5<=100):\n",
    "    totalMarks=sub1+sub2+sub3+sub4+sub5\n",
    "    percent=(totalMarks/500)*100\n",
    "    print(\" \")\n",
    "    if (sub1<33 or sub2<33 or sub3<33 or sub4<33 or sub5<33):\n",
    "        print(\"Result Status: Fail\")\n",
    "    print(\"Marks Gained out of 500: \"+str(totalMarks))\n",
    "    print(\"Percentage: \"+str(percent))\n",
    "    if(percent<100 and percent>=80):\n",
    "        print(\"Grade: A+\")\n",
    "    elif(percent<80 and percent>=70):\n",
    "        print(\"Grade: A\")\n",
    "    elif(percent<70 and percent>=60):\n",
    "        print(\"Grade: B\")\n",
    "    elif(percent<60 and percent>=50):\n",
    "        print(\"Grade: C\")\n",
    "elif (sub1>100 or sub2>100 or sub3>100 or sub4>100 or sub5>100):\n",
    "    print(\"Please Enter Marks less then 100 for each subjects\")"
   ]
  },
  {
   "cell_type": "code",
   "execution_count": 8,
   "metadata": {},
   "outputs": [
    {
     "name": "stdout",
     "output_type": "stream",
     "text": [
      "Please Enter Number85\n",
      "85 is Odd number\n"
     ]
    }
   ],
   "source": [
    "'''\n",
    "2. Write a program which take input from user and identify that the given number is even or odd? \n",
    "'''\n",
    "number=int(input(\"Please Enter Number\"))\n",
    "if ((number%2)==0):\n",
    "    print(str(number)+\" is Even number\")\n",
    "elif ((number%2)==1):\n",
    "    print(str(number)+\" is Odd number\")"
   ]
  },
  {
   "cell_type": "code",
   "execution_count": 10,
   "metadata": {},
   "outputs": [
    {
     "name": "stdout",
     "output_type": "stream",
     "text": [
      "Length of above list is: 5\n"
     ]
    }
   ],
   "source": [
    "'''\n",
    "3. Write a program which print the length of the list? \n",
    "'''\n",
    "list=[\"sabeel\",12,\"Ahmed\",\"Khan\"]\n",
    "list.append(\"Shair Khan\")\n",
    "\n",
    "print(\"Length of above list is: \"+str(len(list)))"
   ]
  },
  {
   "cell_type": "code",
   "execution_count": 23,
   "metadata": {},
   "outputs": [
    {
     "name": "stdout",
     "output_type": "stream",
     "text": [
      "Sum of Numeric List: 591\n"
     ]
    }
   ],
   "source": [
    "'''\n",
    "4. Write a Python program to sum all the numeric items in a list? \n",
    "'''\n",
    "list=[12,123,456]\n",
    "if (all(isinstance(x, int) for x in list)):\n",
    "    print(\"Sum of Numeric List: \"+str(sum(list)))"
   ]
  },
  {
   "cell_type": "code",
   "execution_count": 25,
   "metadata": {},
   "outputs": [
    {
     "name": "stdout",
     "output_type": "stream",
     "text": [
      "Largest number is: 105\n"
     ]
    }
   ],
   "source": [
    "'''\n",
    "5. Write a Python program to get the largest number from a numeric list. \n",
    "'''\n",
    "list=[12,56,6,78,63,52,85,105,22]\n",
    "list.sort()\n",
    "print(\"Largest number is:\", list[-1]) "
   ]
  },
  {
   "cell_type": "code",
   "execution_count": 28,
   "metadata": {},
   "outputs": [
    {
     "name": "stdout",
     "output_type": "stream",
     "text": [
      "1\n",
      "1\n",
      "2\n",
      "3\n",
      "4\n"
     ]
    }
   ],
   "source": [
    "'''\n",
    "6. Take a list, say for example this one: \n",
    "   a = [1, 1, 2, 3, 5, 8, 13, 21, 34, 55, 89] \n",
    "and write a program that prints out all the elements of the list that are less than 5. \n",
    "'''\n",
    "a = [1, 1, 2, 3, 5, 8, 13, 21, 34, 55, 89,4]\n",
    "for x in a:\n",
    "    if x<5:\n",
    "        print(x)\n"
   ]
  },
  {
   "cell_type": "code",
   "execution_count": null,
   "metadata": {},
   "outputs": [],
   "source": []
  }
 ],
 "metadata": {
  "kernelspec": {
   "display_name": "Python 3",
   "language": "python",
   "name": "python3"
  },
  "language_info": {
   "codemirror_mode": {
    "name": "ipython",
    "version": 3
   },
   "file_extension": ".py",
   "mimetype": "text/x-python",
   "name": "python",
   "nbconvert_exporter": "python",
   "pygments_lexer": "ipython3",
   "version": "3.7.3"
  }
 },
 "nbformat": 4,
 "nbformat_minor": 2
}
